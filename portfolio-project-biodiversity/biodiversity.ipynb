{
 "cells": [
  {
   "cell_type": "markdown",
   "source": [
    "###Portfolio project - Analysing Biodiversity in National Parks\n",
    "\n",
    "The goal of this project is to intepret data from the National Parks Service about endangered species in different parks.\n",
    "\n",
    "I will be performing data analysis on the conservation statuses of these species and investigate if there are any patterns or themes to the types of species that become endangered. During this project, I will analyze, clean up and plot data as well as pose questions and seek to answer them in a meaningful way."
   ],
   "metadata": {
    "collapsed": false
   }
  },
  {
   "cell_type": "code",
   "execution_count": 81,
   "metadata": {},
   "outputs": [],
   "source": [
    "#import libraries\n",
    "import pandas as pd\n",
    "import seaborn as sns\n",
    "import numpy as np\n"
   ]
  },
  {
   "cell_type": "code",
   "execution_count": 82,
   "outputs": [
    {
     "name": "stdout",
     "output_type": "stream",
     "text": [
      "Index(['scientific_name', 'park_name', 'observations'], dtype='object')\n",
      "Index(['category', 'scientific_name', 'common_names', 'conservation_status'], dtype='object')\n"
     ]
    }
   ],
   "source": [
    "#Load the data into dataframes\n",
    "obsdf = pd.read_csv('observations.csv')\n",
    "specdf = pd.read_csv('species_info.csv')\n",
    "\n",
    "print(obsdf.columns)\n",
    "print(specdf.columns)"
   ],
   "metadata": {
    "collapsed": false,
    "pycharm": {
     "name": "#%%\n"
    }
   }
  },
  {
   "cell_type": "code",
   "execution_count": 83,
   "outputs": [
    {
     "name": "stdout",
     "output_type": "stream",
     "text": [
      "scientific_name    object\n",
      "park_name          object\n",
      "observations        int64\n",
      "dtype: object\n",
      "category               object\n",
      "scientific_name        object\n",
      "common_names           object\n",
      "conservation_status    object\n",
      "dtype: object\n"
     ]
    }
   ],
   "source": [
    "#Check datatypes\n",
    "print(obsdf.dtypes)\n",
    "print(specdf.dtypes)"
   ],
   "metadata": {
    "collapsed": false,
    "pycharm": {
     "name": "#%%\n"
    }
   }
  },
  {
   "cell_type": "code",
   "execution_count": 84,
   "outputs": [
    {
     "data": {
      "text/plain": "              category    scientific_name        common_names  \\\ncount             5824               5824                5824   \nunique               7               5541                5504   \ntop     Vascular Plant  Castor canadensis  Brachythecium Moss   \nfreq              4470                  3                   7   \n\n       conservation_status  \ncount                  191  \nunique                   4  \ntop     Species of Concern  \nfreq                   161  ",
      "text/html": "<div>\n<style scoped>\n    .dataframe tbody tr th:only-of-type {\n        vertical-align: middle;\n    }\n\n    .dataframe tbody tr th {\n        vertical-align: top;\n    }\n\n    .dataframe thead th {\n        text-align: right;\n    }\n</style>\n<table border=\"1\" class=\"dataframe\">\n  <thead>\n    <tr style=\"text-align: right;\">\n      <th></th>\n      <th>category</th>\n      <th>scientific_name</th>\n      <th>common_names</th>\n      <th>conservation_status</th>\n    </tr>\n  </thead>\n  <tbody>\n    <tr>\n      <th>count</th>\n      <td>5824</td>\n      <td>5824</td>\n      <td>5824</td>\n      <td>191</td>\n    </tr>\n    <tr>\n      <th>unique</th>\n      <td>7</td>\n      <td>5541</td>\n      <td>5504</td>\n      <td>4</td>\n    </tr>\n    <tr>\n      <th>top</th>\n      <td>Vascular Plant</td>\n      <td>Castor canadensis</td>\n      <td>Brachythecium Moss</td>\n      <td>Species of Concern</td>\n    </tr>\n    <tr>\n      <th>freq</th>\n      <td>4470</td>\n      <td>3</td>\n      <td>7</td>\n      <td>161</td>\n    </tr>\n  </tbody>\n</table>\n</div>"
     },
     "execution_count": 84,
     "metadata": {},
     "output_type": "execute_result"
    }
   ],
   "source": [
    "#Print summary statistics\n",
    "obsdf.describe()\n",
    "specdf.describe()"
   ],
   "metadata": {
    "collapsed": false,
    "pycharm": {
     "name": "#%%\n"
    }
   }
  },
  {
   "cell_type": "code",
   "execution_count": 85,
   "outputs": [
    {
     "name": "stdout",
     "output_type": "stream",
     "text": [
      "               category                          scientific_name  \\\n",
      "5696     Vascular Plant                    Ranunculus hebecarpus   \n",
      "5462     Vascular Plant           Carex aquatilis var. aquatilis   \n",
      "3298     Vascular Plant                         Elodea nuttallii   \n",
      "5189     Vascular Plant                     Trifolium variegatum   \n",
      "1469     Vascular Plant       Asclepias incarnata ssp. incarnata   \n",
      "3555     Vascular Plant                         Tonestus lyallii   \n",
      "4684     Vascular Plant                        Piperia colemanii   \n",
      "5505     Vascular Plant    Eleocharis acicularis var. acicularis   \n",
      "1773     Vascular Plant  Croton glandulosus var. septentrionalis   \n",
      "3533     Vascular Plant                  Stephanomeria runcinata   \n",
      "5008     Vascular Plant                           Montia fontana   \n",
      "2694  Nonvascular Plant              Bryum lisae var. cuspidatum   \n",
      "4898     Vascular Plant                       Phacelia mutabilis   \n",
      "3218               Bird                      Catherpes mexicanus   \n",
      "5098     Vascular Plant        Gilia capitata ssp. abrotanifolia   \n",
      "400             Reptile                Chrysemys picta marginata   \n",
      "5234     Vascular Plant                        Marrubium vulgare   \n",
      "3369     Vascular Plant                    Goodyera oblongifolia   \n",
      "4112     Vascular Plant                         Carex platylepis   \n",
      "1092     Vascular Plant                       Scleranthus annuus   \n",
      "\n",
      "                                           common_names conservation_status  \n",
      "5696          Delicate Buttercup, Downy-Fruit Buttercup                 NaN  \n",
      "5462                   Leafy Tussock Sedge, Water Sedge                 NaN  \n",
      "3298                                          Waterweed                 NaN  \n",
      "5189                  Whitetip Clover, White-Tip Clover                 NaN  \n",
      "1469                                     Swamp Milkweed                 NaN  \n",
      "3555              Alpine Goldenweed, Lyall's Goldenweed                 NaN  \n",
      "4684                                  Coleman's Piperia                 NaN  \n",
      "5505                Needle Spikerush, Needle Spike-Rush                 NaN  \n",
      "1773                                      Vente Conmigo                 NaN  \n",
      "3533                Desert Wirelettuce, Flowering-Straw                 NaN  \n",
      "5008  Annual Water Minerslettuce, Fountain Miner's L...                 NaN  \n",
      "2694                                         Bryum Moss                 NaN  \n",
      "4898                                Changeable Phacelia                 NaN  \n",
      "3218                                        Canyon Wren                 NaN  \n",
      "5098                                     Bluehead Gilia                 NaN  \n",
      "400                              Midland Painted Turtle                 NaN  \n",
      "5234                         Horehound, White Horehound                 NaN  \n",
      "3369  Rattlesnake Plantain, Western Rattlesnake Plan...                 NaN  \n",
      "4112                                   Broadscale Sedge                 NaN  \n",
      "1092                                   German Knotgrass                 NaN  \n"
     ]
    }
   ],
   "source": [
    "#Print a sample\n",
    "print(specdf.sample(20))"
   ],
   "metadata": {
    "collapsed": false,
    "pycharm": {
     "name": "#%%\n"
    }
   }
  },
  {
   "cell_type": "code",
   "execution_count": 86,
   "outputs": [
    {
     "data": {
      "text/plain": "scientific_name                      park_name                            observations\nPoa compressa                        Great Smoky Mountains National Park  80              2\nSalix exigua                         Yosemite National Park               186             2\nEleocharis palustris                 Great Smoky Mountains National Park  62              2\nPotentilla norvegica                 Yosemite National Park               148             2\nSpilogale putorius                   Yellowstone National Park            256             2\n                                                                                         ..\nEntodon sullivantii                  Yosemite National Park               165             1\n                                     Yellowstone National Park            237             1\n                                     Great Smoky Mountains National Park  64              1\n                                     Bryce National Park                  85              1\nZygodon viridissimus var. rupestris  Yosemite National Park               210             1\nLength: 23281, dtype: int64"
     },
     "execution_count": 86,
     "metadata": {},
     "output_type": "execute_result"
    }
   ],
   "source": [
    "#Categorial encoding - check value counts for observations\n",
    "obsdf.value_counts()"
   ],
   "metadata": {
    "collapsed": false,
    "pycharm": {
     "name": "#%%\n"
    }
   }
  },
  {
   "cell_type": "code",
   "execution_count": 87,
   "outputs": [
    {
     "data": {
      "text/plain": "category        scientific_name         common_names                                       conservation_status\nAmphibian       Anaxyrus canorus        Yosemite Toad                                      Threatened             1\nMammal          Sylvilagus bachmani     Brush Rabbit                                       Species of Concern     1\n                Myotis lucifugus        Little Brown Myotis                                Species of Concern     1\n                Myotis septentrionalis  Northern Long-Eared Bat, Northern Myotis           Threatened             1\n                Myotis sodalis          Indiana Bat, Indiana Or Social Myotis              Endangered             1\n                                                                                                                 ..\nBird            Pipilo chlorurus        Green-Tailed Towhee                                Species of Concern     1\n                Piranga rubra           Summer Tanager                                     Species of Concern     1\n                Plegadis chihi          White-Faced Ibis                                   Species of Concern     1\n                Progne subis            Purple Martin                                      Species of Concern     1\nVascular Plant  Zizia trifoliata        Meadow Alexanders, Three-Leaved Golden Alexanders  Species of Concern     1\nLength: 191, dtype: int64"
     },
     "execution_count": 87,
     "metadata": {},
     "output_type": "execute_result"
    }
   ],
   "source": [
    "##Categorial encoding - check value counts for species\n",
    "specdf.value_counts()"
   ],
   "metadata": {
    "collapsed": false,
    "pycharm": {
     "name": "#%%\n"
    }
   }
  },
  {
   "cell_type": "code",
   "execution_count": 88,
   "outputs": [
    {
     "data": {
      "text/plain": "84     220\n85     210\n91     206\n92     203\n95     202\n      ... \n9        1\n321      1\n303      1\n314      1\n310      1\nName: observations, Length: 304, dtype: int64"
     },
     "execution_count": 88,
     "metadata": {},
     "output_type": "execute_result"
    }
   ],
   "source": [
    "obsdf['observations'].value_counts()"
   ],
   "metadata": {
    "collapsed": false,
    "pycharm": {
     "name": "#%%\n"
    }
   }
  },
  {
   "cell_type": "code",
   "execution_count": 89,
   "outputs": [],
   "source": [
    "merged_df = pd.merge(obsdf, specdf, on='scientific_name')"
   ],
   "metadata": {
    "collapsed": false,
    "pycharm": {
     "name": "#%%\n"
    }
   }
  },
  {
   "cell_type": "code",
   "execution_count": 90,
   "outputs": [
    {
     "data": {
      "text/plain": "scientific_name                park_name                            observations  category        common_names                                       conservation_status\nAbies fraseri                  Bryce National Park                  109           Vascular Plant  Fraser Fir                                         Species of Concern     1\nOncorhynchus clarkii henshawi  Yosemite National Park               85            Fish            Lahontan Cutthroat Trout                           Threatened             1\nNycticorax nycticorax          Yellowstone National Park            206           Bird            Black-Crowned Night Heron                          Species of Concern     1\n                                                                                                  Black-Crowned Night-Heron                          Species of Concern     1\n                                                                    233           Bird            Black-Crowned Night Heron                          Species of Concern     1\n                                                                                                                                                                           ..\nFalco columbarius              Bryce National Park                  94            Bird            Merlin                                             Species of Concern     1\n                               Great Smoky Mountains National Park  28            Bird            Merlin                                             Species of Concern     1\n                               Yellowstone National Park            258           Bird            Merlin                                             Species of Concern     1\n                               Yosemite National Park               122           Bird            Merlin                                             Species of Concern     1\nZizia trifoliata               Yosemite National Park               135           Vascular Plant  Meadow Alexanders, Three-Leaved Golden Alexanders  Species of Concern     1\nLength: 880, dtype: int64"
     },
     "execution_count": 90,
     "metadata": {},
     "output_type": "execute_result"
    }
   ],
   "source": [
    "merged_df.value_counts()"
   ],
   "metadata": {
    "collapsed": false,
    "pycharm": {
     "name": "#%%\n"
    }
   }
  },
  {
   "cell_type": "code",
   "execution_count": 91,
   "outputs": [
    {
     "data": {
      "text/plain": "<AxesSubplot:xlabel='category', ylabel='observations'>"
     },
     "execution_count": 91,
     "metadata": {},
     "output_type": "execute_result"
    },
    {
     "data": {
      "text/plain": "<Figure size 432x288 with 1 Axes>",
      "image/png": "[encoded data removed]"
     },
     "metadata": {
      "needs_background": "light"
     },
     "output_type": "display_data"
    }
   ],
   "source": [
    "#Check category distribution\n",
    "sns.boxplot(\n",
    "    x='category',\n",
    "    y='observations',\n",
    "    data=merged_df\n",
    ")"
   ],
   "metadata": {
    "collapsed": false,
    "pycharm": {
     "name": "#%%\n"
    }
   }
  },
  {
   "cell_type": "code",
   "execution_count": 92,
   "outputs": [
    {
     "data": {
      "text/plain": "<AxesSubplot:xlabel='conservation_status', ylabel='observations'>"
     },
     "execution_count": 92,
     "metadata": {},
     "output_type": "execute_result"
    },
    {
     "data": {
      "text/plain": "<Figure size 432x288 with 1 Axes>",
      "image/png": "[encoded data removed]"
     },
     "metadata": {
      "needs_background": "light"
     },
     "output_type": "display_data"
    }
   ],
   "source": [
    "#Check conservation status distribution\n",
    "sns.boxplot(\n",
    "    x='conservation_status',\n",
    "    y='observations',\n",
    "    data=merged_df\n",
    ")"
   ],
   "metadata": {
    "collapsed": false,
    "pycharm": {
     "name": "#%%\n"
    }
   }
  },
  {
   "cell_type": "code",
   "execution_count": 93,
   "outputs": [
    {
     "data": {
      "text/plain": "       observations\ncount  25632.000000\nmean     142.214693\nstd       69.912475\nmin        9.000000\n25%       86.000000\n50%      124.000000\n75%      195.000000\nmax      321.000000",
      "text/html": "<div>\n<style scoped>\n    .dataframe tbody tr th:only-of-type {\n        vertical-align: middle;\n    }\n\n    .dataframe tbody tr th {\n        vertical-align: top;\n    }\n\n    .dataframe thead th {\n        text-align: right;\n    }\n</style>\n<table border=\"1\" class=\"dataframe\">\n  <thead>\n    <tr style=\"text-align: right;\">\n      <th></th>\n      <th>observations</th>\n    </tr>\n  </thead>\n  <tbody>\n    <tr>\n      <th>count</th>\n      <td>25632.000000</td>\n    </tr>\n    <tr>\n      <th>mean</th>\n      <td>142.214693</td>\n    </tr>\n    <tr>\n      <th>std</th>\n      <td>69.912475</td>\n    </tr>\n    <tr>\n      <th>min</th>\n      <td>9.000000</td>\n    </tr>\n    <tr>\n      <th>25%</th>\n      <td>86.000000</td>\n    </tr>\n    <tr>\n      <th>50%</th>\n      <td>124.000000</td>\n    </tr>\n    <tr>\n      <th>75%</th>\n      <td>195.000000</td>\n    </tr>\n    <tr>\n      <th>max</th>\n      <td>321.000000</td>\n    </tr>\n  </tbody>\n</table>\n</div>"
     },
     "execution_count": 93,
     "metadata": {},
     "output_type": "execute_result"
    }
   ],
   "source": [
    "merged_df.describe()"
   ],
   "metadata": {
    "collapsed": false,
    "pycharm": {
     "name": "#%%\n"
    }
   }
  },
  {
   "cell_type": "markdown",
   "source": [
    "##Missing data"
   ],
   "metadata": {
    "collapsed": false
   }
  },
  {
   "cell_type": "code",
   "execution_count": 94,
   "outputs": [
    {
     "name": "stdout",
     "output_type": "stream",
     "text": [
      "<class 'pandas.core.frame.DataFrame'>\n",
      "Int64Index: 25632 entries, 0 to 25631\n",
      "Data columns (total 6 columns):\n",
      " #   Column               Non-Null Count  Dtype \n",
      "---  ------               --------------  ----- \n",
      " 0   scientific_name      25632 non-null  object\n",
      " 1   park_name            25632 non-null  object\n",
      " 2   observations         25632 non-null  int64 \n",
      " 3   category             25632 non-null  object\n",
      " 4   common_names         25632 non-null  object\n",
      " 5   conservation_status  880 non-null    object\n",
      "dtypes: int64(1), object(5)\n",
      "memory usage: 1.4+ MB\n",
      "None\n"
     ]
    }
   ],
   "source": [
    "print(merged_df.info())"
   ],
   "metadata": {
    "collapsed": false,
    "pycharm": {
     "name": "#%%\n"
    }
   }
  },
  {
   "cell_type": "code",
   "execution_count": 95,
   "outputs": [],
   "source": [
    "dfConservation = merged_df.where(merged_df['conservation_status'].notnull())"
   ],
   "metadata": {
    "collapsed": false,
    "pycharm": {
     "name": "#%%\n"
    }
   }
  },
  {
   "cell_type": "code",
   "execution_count": 96,
   "outputs": [
    {
     "name": "stdout",
     "output_type": "stream",
     "text": [
      "<class 'pandas.core.frame.DataFrame'>\n",
      "Int64Index: 25632 entries, 0 to 25631\n",
      "Data columns (total 6 columns):\n",
      " #   Column               Non-Null Count  Dtype  \n",
      "---  ------               --------------  -----  \n",
      " 0   scientific_name      880 non-null    object \n",
      " 1   park_name            880 non-null    object \n",
      " 2   observations         880 non-null    float64\n",
      " 3   category             880 non-null    object \n",
      " 4   common_names         880 non-null    object \n",
      " 5   conservation_status  880 non-null    object \n",
      "dtypes: float64(1), object(5)\n",
      "memory usage: 1.4+ MB\n",
      "None\n"
     ]
    }
   ],
   "source": [
    "print(dfConservation.info())"
   ],
   "metadata": {
    "collapsed": false,
    "pycharm": {
     "name": "#%%\n"
    }
   }
  },
  {
   "cell_type": "code",
   "execution_count": 97,
   "outputs": [
    {
     "name": "stdout",
     "output_type": "stream",
     "text": [
      "      scientific_name park_name  observations category common_names  \\\n",
      "7074              NaN       NaN           NaN      NaN          NaN   \n",
      "14203             NaN       NaN           NaN      NaN          NaN   \n",
      "16283             NaN       NaN           NaN      NaN          NaN   \n",
      "1539              NaN       NaN           NaN      NaN          NaN   \n",
      "23117             NaN       NaN           NaN      NaN          NaN   \n",
      "...               ...       ...           ...      ...          ...   \n",
      "13756             NaN       NaN           NaN      NaN          NaN   \n",
      "3247              NaN       NaN           NaN      NaN          NaN   \n",
      "16520             NaN       NaN           NaN      NaN          NaN   \n",
      "20508             NaN       NaN           NaN      NaN          NaN   \n",
      "20712             NaN       NaN           NaN      NaN          NaN   \n",
      "\n",
      "      conservation_status  \n",
      "7074                  NaN  \n",
      "14203                 NaN  \n",
      "16283                 NaN  \n",
      "1539                  NaN  \n",
      "23117                 NaN  \n",
      "...                   ...  \n",
      "13756                 NaN  \n",
      "3247                  NaN  \n",
      "16520                 NaN  \n",
      "20508                 NaN  \n",
      "20712                 NaN  \n",
      "\n",
      "[100 rows x 6 columns]\n"
     ]
    }
   ],
   "source": [
    "print(dfConservation.sample(100))"
   ],
   "metadata": {
    "collapsed": false,
    "pycharm": {
     "name": "#%%\n"
    }
   }
  },
  {
   "cell_type": "code",
   "execution_count": 98,
   "outputs": [],
   "source": [
    "#Remove empty rows\n",
    "merged_df.dropna(how='all', inplace=True)"
   ],
   "metadata": {
    "collapsed": false,
    "pycharm": {
     "name": "#%%\n"
    }
   }
  },
  {
   "cell_type": "code",
   "execution_count": 99,
   "outputs": [
    {
     "name": "stdout",
     "output_type": "stream",
     "text": [
      "<class 'pandas.core.frame.DataFrame'>\n",
      "Int64Index: 25632 entries, 0 to 25631\n",
      "Data columns (total 6 columns):\n",
      " #   Column               Non-Null Count  Dtype \n",
      "---  ------               --------------  ----- \n",
      " 0   scientific_name      25632 non-null  object\n",
      " 1   park_name            25632 non-null  object\n",
      " 2   observations         25632 non-null  int64 \n",
      " 3   category             25632 non-null  object\n",
      " 4   common_names         25632 non-null  object\n",
      " 5   conservation_status  880 non-null    object\n",
      "dtypes: int64(1), object(5)\n",
      "memory usage: 1.4+ MB\n",
      "None\n"
     ]
    }
   ],
   "source": [
    "print(merged_df.info())"
   ],
   "metadata": {
    "collapsed": false,
    "pycharm": {
     "name": "#%%\n"
    }
   }
  },
  {
   "cell_type": "code",
   "execution_count": null,
   "outputs": [],
   "source": [],
   "metadata": {
    "collapsed": false,
    "pycharm": {
     "name": "#%%\n"
    }
   }
  }
 ],
 "metadata": {
  "kernelspec": {
   "display_name": "Python 3",
   "language": "python",
   "name": "python3"
  },
  "language_info": {
   "codemirror_mode": {
    "name": "ipython",
    "version": 3
   },
   "file_extension": ".py",
   "mimetype": "text/x-python",
   "name": "python",
   "nbconvert_exporter": "python",
   "pygments_lexer": "ipython3",
   "version": "3.7.6"
  }
 },
 "nbformat": 4,
 "nbformat_minor": 4
}