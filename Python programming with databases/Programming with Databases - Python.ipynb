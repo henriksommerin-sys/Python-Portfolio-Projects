{
 "cells": [
  {
   "cell_type": "markdown",
   "source": [
    "Here’s a short Python program that selects latitudes and longitudes from an SQLite database stored in a file called survey.db:"
   ],
   "metadata": {
    "collapsed": false
   }
  },
  {
   "cell_type": "code",
   "execution_count": 3,
   "metadata": {
    "collapsed": true
   },
   "outputs": [
    {
     "name": "stdout",
     "output_type": "stream",
     "text": [
      "(-49.85, -128.57)\n",
      "(-47.15, -126.72)\n",
      "(-48.87, -123.4)\n"
     ]
    }
   ],
   "source": [
    "import sqlite3\n",
    "\n",
    "connection = sqlite3.connect(\"survey.db\")\n",
    "cursor = connection.cursor()\n",
    "cursor.execute(\"SELECT Site.lat, Site.long FROM Site;\")\n",
    "results = cursor.fetchall()\n",
    "for r in results:\n",
    "    print(r)\n",
    "cursor.close()\n",
    "connection.close()"
   ]
  },
  {
   "cell_type": "markdown",
   "source": [
    "The program starts by importing the sqlite3 library. If we were connecting to MySQL, DB2, or some other database, we would import a different library, but all of them provide the same functions, so that the rest of our program does not have to change (at least, not much) if we switch from one database to another.\n",
    "\n",
    "Line 2 establishes a connection to the database. Since we’re using SQLite, all we need to specify is the name of the database file. Other systems may require us to provide a username and password as well. Line 3 then uses this connection to create a cursor. Just like the cursor in an editor, its role is to keep track of where we are in the database.\n",
    "\n",
    "On line 4, we use that cursor to ask the database to execute a query for us. The query is written in SQL, and passed to cursor.execute as a string. It’s our job to make sure that SQL is properly formatted; if it isn’t, or if something goes wrong when it is being executed, the database will report an error.\n",
    "\n",
    "The database returns the results of the query to us in response to the cursor.fetchall call on line 5. This result is a list with one entry for each record in the result set; if we loop over that list (line 6) and print those list entries (line 7), we can see that each one is a tuple with one element for each field we asked for.\n",
    "\n",
    "Finally, lines 8 and 9 close our cursor and our connection, since the database can only keep a limited number of these open at one time. Since establishing a connection takes time, though, we shouldn’t open a connection, do one operation, then close the connection, only to reopen it a few microseconds later to do another operation. Instead, it’s normal to create one connection that stays open for the lifetime of the program.\n",
    "\n",
    "Queries in real applications will often depend on values provided by users. For example, this function takes a user’s ID as a parameter and returns their name:"
   ],
   "metadata": {
    "collapsed": false
   }
  },
  {
   "cell_type": "code",
   "execution_count": 4,
   "outputs": [
    {
     "name": "stdout",
     "output_type": "stream",
     "text": [
      "Full name for dyer: William Dyer\n"
     ]
    }
   ],
   "source": [
    "import sqlite3\n",
    "\n",
    "def get_name(database_file, person_id):\n",
    "    query = \"SELECT personal || ' ' || family FROM Person WHERE id='\" + person_id + \"';\"\n",
    "\n",
    "    connection = sqlite3.connect(database_file)\n",
    "    cursor = connection.cursor()\n",
    "    cursor.execute(query)\n",
    "    results = cursor.fetchall()\n",
    "    cursor.close()\n",
    "    connection.close()\n",
    "\n",
    "    return results[0][0]\n",
    "\n",
    "print(\"Full name for dyer:\", get_name('survey.db', 'dyer'))"
   ],
   "metadata": {
    "collapsed": false,
    "pycharm": {
     "name": "#%%\n"
    }
   }
  },
  {
   "cell_type": "markdown",
   "source": [
    "We use string concatenation on the first line of this function to construct a query containing the user ID we have been given. This seems simple enough, but what happens if someone gives us this string as input?"
   ],
   "metadata": {
    "collapsed": false
   }
  },
  {
   "cell_type": "code",
   "execution_count": 5,
   "outputs": [
    {
     "ename": "SyntaxError",
     "evalue": "invalid syntax (3218242976.py, line 1)",
     "output_type": "error",
     "traceback": [
      "\u001B[0;36m  Input \u001B[0;32mIn [5]\u001B[0;36m\u001B[0m\n\u001B[0;31m    dyer'; DROP TABLE Survey; SELECT '\u001B[0m\n\u001B[0m        ^\u001B[0m\n\u001B[0;31mSyntaxError\u001B[0m\u001B[0;31m:\u001B[0m invalid syntax\n"
     ]
    }
   ],
   "source": [
    "dyer'; DROP TABLE Survey; SELECT '"
   ],
   "metadata": {
    "collapsed": false,
    "pycharm": {
     "name": "#%%\n"
    }
   }
  },
  {
   "cell_type": "markdown",
   "source": [
    "It looks like there’s garbage after the user’s ID, but it is very carefully chosen garbage. If we insert this string into our query, the result is:"
   ],
   "metadata": {
    "collapsed": false
   }
  },
  {
   "cell_type": "code",
   "execution_count": 6,
   "outputs": [
    {
     "ename": "SyntaxError",
     "evalue": "invalid syntax (1331533064.py, line 1)",
     "output_type": "error",
     "traceback": [
      "\u001B[0;36m  Input \u001B[0;32mIn [6]\u001B[0;36m\u001B[0m\n\u001B[0;31m    SELECT personal || ' ' || family FROM Person WHERE id='dyer'; DROP TABLE Survey; SELECT '';\u001B[0m\n\u001B[0m           ^\u001B[0m\n\u001B[0;31mSyntaxError\u001B[0m\u001B[0;31m:\u001B[0m invalid syntax\n"
     ]
    }
   ],
   "source": [
    "SELECT personal || ' ' || family FROM Person WHERE id='dyer'; DROP TABLE Survey; SELECT '';"
   ],
   "metadata": {
    "collapsed": false,
    "pycharm": {
     "name": "#%%\n"
    }
   }
  },
  {
   "cell_type": "markdown",
   "source": [
    "If we execute this, it will erase one of the tables in our database.\n",
    "\n",
    "This is called an SQL injection attack, and it has been used to attack thousands of programs over the years. In particular, many web sites that take data from users insert values directly into queries without checking them carefully first.\n",
    "\n",
    "Since a villain might try to smuggle commands into our queries in many different ways, the safest way to deal with this threat is to replace characters like quotes with their escaped equivalents, so that we can safely put whatever the user gives us inside a string. We can do this by using a prepared statement instead of formatting our statements as strings. Here’s what our example program looks like if we do this:"
   ],
   "metadata": {
    "collapsed": false
   }
  },
  {
   "cell_type": "code",
   "execution_count": 7,
   "outputs": [
    {
     "name": "stdout",
     "output_type": "stream",
     "text": [
      "Full name for dyer: William Dyer\n"
     ]
    }
   ],
   "source": [
    "import sqlite3\n",
    "\n",
    "def get_name(database_file, person_id):\n",
    "    query = \"SELECT personal || ' ' || family FROM Person WHERE id=?;\"\n",
    "\n",
    "    connection = sqlite3.connect(database_file)\n",
    "    cursor = connection.cursor()\n",
    "    cursor.execute(query, [person_id])\n",
    "    results = cursor.fetchall()\n",
    "    cursor.close()\n",
    "    connection.close()\n",
    "\n",
    "    return results[0][0]\n",
    "\n",
    "print(\"Full name for dyer:\", get_name('survey.db', 'dyer'))"
   ],
   "metadata": {
    "collapsed": false,
    "pycharm": {
     "name": "#%%\n"
    }
   }
  },
  {
   "cell_type": "markdown",
   "source": [
    "The key changes are in the query string and the execute call. Instead of formatting the query ourselves, we put question marks in the query template where we want to insert values. When we call execute, we provide a list that contains as many values as there are question marks in the query. The library matches values to question marks in order, and translates any special characters in the values into their escaped equivalents so that they are safe to use.\n",
    "\n",
    "We can also use sqlite3’s cursor to make changes to our database, such as inserting a new name. For instance, we can define a new function called add_name like so:"
   ],
   "metadata": {
    "collapsed": false
   }
  },
  {
   "cell_type": "code",
   "execution_count": 8,
   "outputs": [
    {
     "ename": "IndexError",
     "evalue": "list index out of range",
     "output_type": "error",
     "traceback": [
      "\u001B[0;31m---------------------------------------------------------------------------\u001B[0m",
      "\u001B[0;31mIndexError\u001B[0m                                Traceback (most recent call last)",
      "Input \u001B[0;32mIn [8]\u001B[0m, in \u001B[0;36m<cell line: 28>\u001B[0;34m()\u001B[0m\n\u001B[1;32m     26\u001B[0m add_name(\u001B[38;5;124m'\u001B[39m\u001B[38;5;124msurvey.db\u001B[39m\u001B[38;5;124m'\u001B[39m, (\u001B[38;5;124m'\u001B[39m\u001B[38;5;124mbarrett\u001B[39m\u001B[38;5;124m'\u001B[39m, \u001B[38;5;124m'\u001B[39m\u001B[38;5;124mMary\u001B[39m\u001B[38;5;124m'\u001B[39m, \u001B[38;5;124m'\u001B[39m\u001B[38;5;124mBarrett\u001B[39m\u001B[38;5;124m'\u001B[39m))\n\u001B[1;32m     27\u001B[0m \u001B[38;5;66;03m# Check it exists\u001B[39;00m\n\u001B[0;32m---> 28\u001B[0m \u001B[38;5;28mprint\u001B[39m(\u001B[38;5;124m\"\u001B[39m\u001B[38;5;124mFull name for barrett:\u001B[39m\u001B[38;5;124m\"\u001B[39m, \u001B[43mget_name\u001B[49m\u001B[43m(\u001B[49m\u001B[38;5;124;43m'\u001B[39;49m\u001B[38;5;124;43msurvey.db\u001B[39;49m\u001B[38;5;124;43m'\u001B[39;49m\u001B[43m,\u001B[49m\u001B[43m \u001B[49m\u001B[38;5;124;43m'\u001B[39;49m\u001B[38;5;124;43mbarrett\u001B[39;49m\u001B[38;5;124;43m'\u001B[39;49m\u001B[43m)\u001B[49m)\n",
      "Input \u001B[0;32mIn [8]\u001B[0m, in \u001B[0;36mget_name\u001B[0;34m(database_file, person_id)\u001B[0m\n\u001B[1;32m     20\u001B[0m cursor\u001B[38;5;241m.\u001B[39mclose()\n\u001B[1;32m     21\u001B[0m connection\u001B[38;5;241m.\u001B[39mclose()\n\u001B[0;32m---> 23\u001B[0m \u001B[38;5;28;01mreturn\u001B[39;00m \u001B[43mresults\u001B[49m\u001B[43m[\u001B[49m\u001B[38;5;241;43m0\u001B[39;49m\u001B[43m]\u001B[49m[\u001B[38;5;241m0\u001B[39m]\n",
      "\u001B[0;31mIndexError\u001B[0m: list index out of range"
     ]
    }
   ],
   "source": [
    "import sqlite3\n",
    "\n",
    "def add_name(database_file, new_person):\n",
    "    query = \"INSERT INTO Person (id, personal, family) VALUES (?, ?, ?);\"\n",
    "\n",
    "    connection = sqlite3.connect(database_file)\n",
    "    cursor = connection.cursor()\n",
    "    cursor.execute(query, list(new_person))\n",
    "    cursor.close()\n",
    "    connection.close()\n",
    "\n",
    "\n",
    "def get_name(database_file, person_id):\n",
    "    query = \"SELECT personal || ' ' || family FROM Person WHERE id=?;\"\n",
    "\n",
    "    connection = sqlite3.connect(database_file)\n",
    "    cursor = connection.cursor()\n",
    "    cursor.execute(query, [person_id])\n",
    "    results = cursor.fetchall()\n",
    "    cursor.close()\n",
    "    connection.close()\n",
    "\n",
    "    return results[0][0]\n",
    "\n",
    "# Insert a new name\n",
    "add_name('survey.db', ('barrett', 'Mary', 'Barrett'))\n",
    "# Check it exists\n",
    "print(\"Full name for barrett:\", get_name('survey.db', 'barrett'))"
   ],
   "metadata": {
    "collapsed": false,
    "pycharm": {
     "name": "#%%\n"
    }
   }
  },
  {
   "cell_type": "markdown",
   "source": [
    "Note that in versions of sqlite3 >= 2.5, the get_name function described above will fail with an IndexError: list index out of range, even though we added Mary’s entry into the table using add_name. This is because we must perform a connection.commit() before closing the connection, in order to save our changes to the database."
   ],
   "metadata": {
    "collapsed": false
   }
  },
  {
   "cell_type": "code",
   "execution_count": 9,
   "outputs": [
    {
     "name": "stdout",
     "output_type": "stream",
     "text": [
      "Full name for barrett: Mary Barrett\n"
     ]
    }
   ],
   "source": [
    "import sqlite3\n",
    "\n",
    "def add_name(database_file, new_person):\n",
    "    query = \"INSERT INTO Person (id, personal, family) VALUES (?, ?, ?);\"\n",
    "\n",
    "    connection = sqlite3.connect(database_file)\n",
    "    cursor = connection.cursor()\n",
    "    cursor.execute(query, list(new_person))\n",
    "    cursor.close()\n",
    "    connection.commit()\n",
    "    connection.close()\n",
    "\n",
    "\n",
    "def get_name(database_file, person_id):\n",
    "    query = \"SELECT personal || ' ' || family FROM Person WHERE id=?;\"\n",
    "\n",
    "    connection = sqlite3.connect(database_file)\n",
    "    cursor = connection.cursor()\n",
    "    cursor.execute(query, [person_id])\n",
    "    results = cursor.fetchall()\n",
    "    cursor.close()\n",
    "    connection.close()\n",
    "\n",
    "    return results[0][0]\n",
    "\n",
    "# Insert a new name\n",
    "add_name('survey.db', ('barrett', 'Mary', 'Barrett'))\n",
    "# Check it exists\n",
    "print(\"Full name for barrett:\", get_name('survey.db', 'barrett'))"
   ],
   "metadata": {
    "collapsed": false,
    "pycharm": {
     "name": "#%%\n"
    }
   }
  },
  {
   "cell_type": "code",
   "execution_count": null,
   "outputs": [],
   "source": [
    "Write a Python program that creates a new database in a file called original.db containing a single table called Pressure, with a single field called reading, and inserts 100,000 random numbers between 10.0 and 25.0. How long does it take this program to run? How long does it take to run a program that simply writes those random numbers to a file?"
   ],
   "metadata": {
    "collapsed": false,
    "pycharm": {
     "name": "#%%\n"
    }
   }
  },
  {
   "cell_type": "code",
   "execution_count": 10,
   "outputs": [
    {
     "ename": "OperationalError",
     "evalue": "table Pressure already exists",
     "output_type": "error",
     "traceback": [
      "\u001B[0;31m---------------------------------------------------------------------------\u001B[0m",
      "\u001B[0;31mOperationalError\u001B[0m                          Traceback (most recent call last)",
      "Input \u001B[0;32mIn [10]\u001B[0m, in \u001B[0;36m<cell line: 8>\u001B[0;34m()\u001B[0m\n\u001B[1;32m      6\u001B[0m connection \u001B[38;5;241m=\u001B[39m sqlite3\u001B[38;5;241m.\u001B[39mconnect(\u001B[38;5;124m\"\u001B[39m\u001B[38;5;124moriginal.db\u001B[39m\u001B[38;5;124m\"\u001B[39m)\n\u001B[1;32m      7\u001B[0m cursor \u001B[38;5;241m=\u001B[39m connection\u001B[38;5;241m.\u001B[39mcursor()\n\u001B[0;32m----> 8\u001B[0m \u001B[43mcursor\u001B[49m\u001B[38;5;241;43m.\u001B[39;49m\u001B[43mexecute\u001B[49m\u001B[43m(\u001B[49m\u001B[38;5;124;43m\"\u001B[39;49m\u001B[38;5;124;43mCREATE TABLE Pressure (reading float not null)\u001B[39;49m\u001B[38;5;124;43m\"\u001B[39;49m\u001B[43m)\u001B[49m\n\u001B[1;32m      9\u001B[0m query \u001B[38;5;241m=\u001B[39m \u001B[38;5;124m\"\u001B[39m\u001B[38;5;124mINSERT INTO Pressure (reading) VALUES (?);\u001B[39m\u001B[38;5;124m\"\u001B[39m\n\u001B[1;32m     11\u001B[0m \u001B[38;5;28;01mfor\u001B[39;00m number \u001B[38;5;129;01min\u001B[39;00m random_numbers:\n",
      "\u001B[0;31mOperationalError\u001B[0m: table Pressure already exists"
     ]
    }
   ],
   "source": [
    "import sqlite3\n",
    "from numpy.random import uniform\n",
    "\n",
    "random_numbers = uniform(low=10.0, high=25.0, size=100000)\n",
    "\n",
    "connection = sqlite3.connect(\"original.db\")\n",
    "cursor = connection.cursor()\n",
    "cursor.execute(\"CREATE TABLE Pressure (reading float not null)\")\n",
    "query = \"INSERT INTO Pressure (reading) VALUES (?);\"\n",
    "\n",
    "for number in random_numbers:\n",
    "    cursor.execute(query, [number])\n",
    "\n",
    "cursor.close()\n",
    "# save changes to file for next exercise\n",
    "connection.commit()\n",
    "connection.close()"
   ],
   "metadata": {
    "collapsed": false,
    "pycharm": {
     "name": "#%%\n"
    }
   }
  },
  {
   "cell_type": "markdown",
   "source": [
    "For comparison, the following program writes the random numbers into the file random_numbers.txt:"
   ],
   "metadata": {
    "collapsed": false
   }
  },
  {
   "cell_type": "code",
   "execution_count": 11,
   "outputs": [],
   "source": [
    "from numpy.random import uniform\n",
    "\n",
    "random_numbers = uniform(low=10.0, high=25.0, size=100000)\n",
    "with open('random_numbers.txt', 'w') as outfile:\n",
    "    for number in random_numbers:\n",
    "        # need to add linebreak \\n\n",
    "        outfile.write(\"{}\\n\".format(number))"
   ],
   "metadata": {
    "collapsed": false,
    "pycharm": {
     "name": "#%%\n"
    }
   }
  },
  {
   "cell_type": "markdown",
   "source": [
    "Write a Python program that creates a new database called backup.db with the same structure as original.db and copies all the values greater than 20.0 from original.db to backup.db. Which is faster: filtering values in the query, or reading everything into memory and filtering in Python?"
   ],
   "metadata": {
    "collapsed": false
   }
  },
  {
   "cell_type": "code",
   "execution_count": 12,
   "outputs": [
    {
     "ename": "OperationalError",
     "evalue": "table Pressure already exists",
     "output_type": "error",
     "traceback": [
      "\u001B[0;31m---------------------------------------------------------------------------\u001B[0m",
      "\u001B[0;31mOperationalError\u001B[0m                          Traceback (most recent call last)",
      "Input \u001B[0;32mIn [12]\u001B[0m, in \u001B[0;36m<cell line: 12>\u001B[0;34m()\u001B[0m\n\u001B[1;32m     10\u001B[0m connection_backup \u001B[38;5;241m=\u001B[39m sqlite3\u001B[38;5;241m.\u001B[39mconnect(\u001B[38;5;124m\"\u001B[39m\u001B[38;5;124mbackup.db\u001B[39m\u001B[38;5;124m\"\u001B[39m)\n\u001B[1;32m     11\u001B[0m cursor_backup \u001B[38;5;241m=\u001B[39m connection_backup\u001B[38;5;241m.\u001B[39mcursor()\n\u001B[0;32m---> 12\u001B[0m \u001B[43mcursor_backup\u001B[49m\u001B[38;5;241;43m.\u001B[39;49m\u001B[43mexecute\u001B[49m\u001B[43m(\u001B[49m\u001B[38;5;124;43m\"\u001B[39;49m\u001B[38;5;124;43mCREATE TABLE Pressure (reading float not null)\u001B[39;49m\u001B[38;5;124;43m\"\u001B[39;49m\u001B[43m)\u001B[49m\n\u001B[1;32m     13\u001B[0m query \u001B[38;5;241m=\u001B[39m \u001B[38;5;124m\"\u001B[39m\u001B[38;5;124mINSERT INTO Pressure (reading) VALUES (?);\u001B[39m\u001B[38;5;124m\"\u001B[39m\n\u001B[1;32m     15\u001B[0m \u001B[38;5;28;01mfor\u001B[39;00m entry \u001B[38;5;129;01min\u001B[39;00m results:\n\u001B[1;32m     16\u001B[0m     \u001B[38;5;66;03m# number is saved in first column of the table\u001B[39;00m\n",
      "\u001B[0;31mOperationalError\u001B[0m: table Pressure already exists"
     ]
    }
   ],
   "source": [
    "import sqlite3\n",
    "\n",
    "connection_original = sqlite3.connect(\"original.db\")\n",
    "cursor_original = connection_original.cursor()\n",
    "cursor_original.execute(\"SELECT * FROM Pressure;\")\n",
    "results = cursor_original.fetchall()\n",
    "cursor_original.close()\n",
    "connection_original.close()\n",
    "\n",
    "connection_backup = sqlite3.connect(\"backup.db\")\n",
    "cursor_backup = connection_backup.cursor()\n",
    "cursor_backup.execute(\"CREATE TABLE Pressure (reading float not null)\")\n",
    "query = \"INSERT INTO Pressure (reading) VALUES (?);\"\n",
    "\n",
    "for entry in results:\n",
    "    # number is saved in first column of the table\n",
    "    if entry[0] > 20.0:\n",
    "        cursor_backup.execute(query, entry)\n",
    "\n",
    "cursor_backup.close()\n",
    "connection_backup.commit()\n",
    "connection_backup.close()"
   ],
   "metadata": {
    "collapsed": false,
    "pycharm": {
     "name": "#%%\n"
    }
   }
  },
  {
   "cell_type": "markdown",
   "source": [
    "In contrast the following example uses the conditional SELECT statement to filter the numbers in SQL. The only lines that changed are in line 5, where the values are fetched from original.db and the for loop starting in line 15 used to insert the numbers into backup.db. Note how this version does not require the use of Python’s if statement."
   ],
   "metadata": {
    "collapsed": false
   }
  },
  {
   "cell_type": "code",
   "execution_count": 13,
   "outputs": [
    {
     "ename": "ProgrammingError",
     "evalue": "Cannot operate on a closed cursor.",
     "output_type": "error",
     "traceback": [
      "\u001B[0;31m---------------------------------------------------------------------------\u001B[0m",
      "\u001B[0;31mProgrammingError\u001B[0m                          Traceback (most recent call last)",
      "Input \u001B[0;32mIn [13]\u001B[0m, in \u001B[0;36m<cell line: 5>\u001B[0;34m()\u001B[0m\n\u001B[1;32m      3\u001B[0m connection_original \u001B[38;5;241m=\u001B[39m sqlite3\u001B[38;5;241m.\u001B[39mconnect(\u001B[38;5;124m\"\u001B[39m\u001B[38;5;124moriginal.db\u001B[39m\u001B[38;5;124m\"\u001B[39m)\n\u001B[1;32m      4\u001B[0m cursor_connection \u001B[38;5;241m=\u001B[39m connection_original\u001B[38;5;241m.\u001B[39mcursor()\n\u001B[0;32m----> 5\u001B[0m \u001B[43mcursor_original\u001B[49m\u001B[38;5;241;43m.\u001B[39;49m\u001B[43mexecute\u001B[49m\u001B[43m(\u001B[49m\u001B[38;5;124;43m\"\u001B[39;49m\u001B[38;5;124;43mSELECT * FROM Pressure WHERE reading > 20.0;\u001B[39;49m\u001B[38;5;124;43m\"\u001B[39;49m\u001B[43m)\u001B[49m\n\u001B[1;32m      6\u001B[0m results \u001B[38;5;241m=\u001B[39m cursor_original\u001B[38;5;241m.\u001B[39mfetchall()\n\u001B[1;32m      7\u001B[0m cursor_original\u001B[38;5;241m.\u001B[39mclose()\n",
      "\u001B[0;31mProgrammingError\u001B[0m: Cannot operate on a closed cursor."
     ]
    }
   ],
   "source": [
    "import sqlite3\n",
    "\n",
    "connection_original = sqlite3.connect(\"original.db\")\n",
    "cursor_connection = connection_original.cursor()\n",
    "cursor_original.execute(\"SELECT * FROM Pressure WHERE reading > 20.0;\")\n",
    "results = cursor_original.fetchall()\n",
    "cursor_original.close()\n",
    "connection_original.close()\n",
    "\n",
    "connection_backup = sqlite3.connect(\"backup.db\")\n",
    "cursor_backup = connection_backup.cursor()\n",
    "cursor_backup.execute(\"CREATE TABLE Pressure (reading float not null)\")\n",
    "query = \"INSERT INTO Pressure (reading) VALUES (?);\"\n",
    "\n",
    "for entry in results:\n",
    "    cursor_backup.execute(query, entry)\n",
    "\n",
    "cursor_backup.close()\n",
    "connection_backup.commit()\n",
    "connection_backup.close()\n"
   ],
   "metadata": {
    "collapsed": false,
    "pycharm": {
     "name": "#%%\n"
    }
   }
  },
  {
   "cell_type": "markdown",
   "source": [],
   "metadata": {
    "collapsed": false
   }
  },
  {
   "cell_type": "markdown",
   "source": [],
   "metadata": {
    "collapsed": false
   }
  }
 ],
 "metadata": {
  "kernelspec": {
   "display_name": "Python 3",
   "language": "python",
   "name": "python3"
  },
  "language_info": {
   "codemirror_mode": {
    "name": "ipython",
    "version": 2
   },
   "file_extension": ".py",
   "mimetype": "text/x-python",
   "name": "python",
   "nbconvert_exporter": "python",
   "pygments_lexer": "ipython2",
   "version": "2.7.6"
  }
 },
 "nbformat": 4,
 "nbformat_minor": 0
}